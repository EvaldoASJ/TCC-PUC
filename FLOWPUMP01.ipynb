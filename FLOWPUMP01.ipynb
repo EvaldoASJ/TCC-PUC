{
 "cells": [
  {
   "cell_type": "markdown",
   "metadata": {},
   "source": [
    "########################################################################################################################\n",
    "              \n",
    "              NOTEBOOK CRIADO PARA ANÁLISE DE DADOS E GERAÇÃO DO MODELO  - BOMBA CENTRIFUGA - PUMP01\n",
    "    \n",
    "    O escopo deste trabalho é:\n",
    "    1 - Analisar os dados de um processo de bombeamento de polpa de minério;\n",
    "    2 - Criar um modelo de machine learnig que possa estimar a vazão volumétrica da bomba;\n",
    "    3 - Comparar este modelo com a vazão real, de modo a validar sua eficácia;\n",
    "    \n",
    "########################################################################################################################"
   ]
  },
  {
   "cell_type": "markdown",
   "metadata": {},
   "source": [
    "########################################################################################################################\n",
    "\n",
    "                                         IMPORT DE BIBLIOTECAS E DEFINIÇÃO DE FUNÇÕES \n",
    "                                         \n",
    "########################################################################################################################"
   ]
  },
  {
   "cell_type": "code",
   "execution_count": 70,
   "metadata": {},
   "outputs": [],
   "source": [
    "import pandas as pd\n",
    "import numpy as np\n",
    "import seaborn as sns\n",
    "from matplotlib import pyplot as plt\n",
    "from sklearn.model_selection import train_test_split\n",
    "from sklearn.metrics import mean_squared_error, mean_absolute_error\n",
    "import statsmodels.api as sm\n",
    "import math\n",
    "%matplotlib inline\n",
    "import operator\n",
    "import datetime\n",
    "import time"
   ]
  },
  {
   "cell_type": "code",
   "execution_count": 12,
   "metadata": {},
   "outputs": [],
   "source": [
    "def half_corr_htmp (df,title=None,file=None):\n",
    "    plt.figure(figsize=(9,9))\n",
    "    sns.set(font_scale=1)\n",
    "    \n",
    "    mask = np.zeros_like(df.corr())\n",
    "    mask[np.triu_indices_from(mask)] = True\n",
    "    \n",
    "    with sns.axes_style('white'):\n",
    "        sns.heatmap(df.corr(), mask=mask, annot=True, cmap='coolwarm')\n",
    "        \n",
    "    if title: plt.title(f'\\n{title}\\n', fontsize=18)\n",
    "    #plt.xlabel('')\n",
    "    #plt.ylabel('')\n",
    "    if file: plt.savefig(file, bbox_inches='tight')\n",
    "    plt.show();\n",
    "    \n",
    "    return"
   ]
  },
  {
   "cell_type": "code",
   "execution_count": 13,
   "metadata": {},
   "outputs": [],
   "source": [
    "def gen_histograms (df, cols=1, file=None):\n",
    "    rows = math.ceil(len(df.columns)/cols)\n",
    "    figwidth = 5*cols\n",
    "    figheight = 4*rows\n",
    "    \n",
    "    fig,ax = plt.subplots(nrows=rows, ncols=cols, figsize = (figwidth, figheight))\n",
    "    \n",
    "    color_choices = ['blue', 'grey', 'goldenrod', 'r', 'black', 'darkorange', 'g']\n",
    "    ax = ax.ravel()      \n",
    "    \n",
    "        \n",
    "    for i, column in enumerate (df.columns):\n",
    "        ax[i].hist(df[column], \n",
    "                   color = color_choices[i%len(color_choices)],\n",
    "                   alpha=1)\n",
    "        ax[i].set_title(f'{df[column].name}', fontsize = 14)\n",
    "        ax[i].set_ylabel('Observações', fontsize=14)\n",
    "        ax[i].set_xlabel('', fontsize=14)\n",
    "       \n",
    "        \n",
    "    fig.suptitle ('\\nHistogramas para todas as variáveis', size = 18)\n",
    "    fig.tight_layout()\n",
    "    fig.subplots_adjust(bottom=0, top=0.88)\n",
    "    if file: plt.savefig(file, bbox_inches='tight')\n",
    "    plt.show();\n",
    "    \n",
    "    return"
   ]
  },
  {
   "cell_type": "markdown",
   "metadata": {},
   "source": [
    "########################################################################################################################\n",
    "\n",
    "                                 IMPORT E TRATAMENTO DO DATASET  DADOS DE PROCESSO - ORIGEM PIMS \n",
    "                                         \n",
    "########################################################################################################################"
   ]
  },
  {
   "cell_type": "code",
   "execution_count": 14,
   "metadata": {
    "scrolled": true
   },
   "outputs": [
    {
     "data": {
      "text/html": [
       "<div>\n",
       "<style scoped>\n",
       "    .dataframe tbody tr th:only-of-type {\n",
       "        vertical-align: middle;\n",
       "    }\n",
       "\n",
       "    .dataframe tbody tr th {\n",
       "        vertical-align: top;\n",
       "    }\n",
       "\n",
       "    .dataframe thead th {\n",
       "        text-align: right;\n",
       "    }\n",
       "</style>\n",
       "<table border=\"1\" class=\"dataframe\">\n",
       "  <thead>\n",
       "    <tr style=\"text-align: right;\">\n",
       "      <th></th>\n",
       "      <th>TimeStamp</th>\n",
       "      <th>Corrente</th>\n",
       "      <th>Temperatura Motor - 1</th>\n",
       "      <th>Temperatura Motor - 2</th>\n",
       "      <th>Temperatura Motor - 3</th>\n",
       "      <th>Temperatura Motor - 4</th>\n",
       "      <th>Temperatura Motor - 5</th>\n",
       "      <th>Pressão Água Selagem</th>\n",
       "      <th>Velocidade</th>\n",
       "      <th>Vazão</th>\n",
       "    </tr>\n",
       "  </thead>\n",
       "  <tbody>\n",
       "    <tr>\n",
       "      <th>0</th>\n",
       "      <td>2020-07-01 00:01:00</td>\n",
       "      <td>202.566668</td>\n",
       "      <td>54.391281</td>\n",
       "      <td>52.244218</td>\n",
       "      <td>52.510209</td>\n",
       "      <td>39.975663</td>\n",
       "      <td>57.597589</td>\n",
       "      <td>4.745334</td>\n",
       "      <td>88.207194</td>\n",
       "      <td>539.719588</td>\n",
       "    </tr>\n",
       "  </tbody>\n",
       "</table>\n",
       "</div>"
      ],
      "text/plain": [
       "             TimeStamp    Corrente  Temperatura Motor - 1  \\\n",
       "0  2020-07-01 00:01:00  202.566668              54.391281   \n",
       "\n",
       "   Temperatura Motor - 2  Temperatura Motor - 3  Temperatura Motor - 4  \\\n",
       "0              52.244218              52.510209              39.975663   \n",
       "\n",
       "   Temperatura Motor - 5  Pressão Água Selagem  Velocidade       Vazão  \n",
       "0              57.597589              4.745334   88.207194  539.719588  "
      ]
     },
     "execution_count": 14,
     "metadata": {},
     "output_type": "execute_result"
    }
   ],
   "source": [
    "dfPIMS = pd.read_csv(\"database_PIMS.csv\", encoding = 'utf-8', sep=',', header='infer', low_memory=False)\n",
    "dfPIMS.head(1)"
   ]
  },
  {
   "cell_type": "code",
   "execution_count": 15,
   "metadata": {
    "scrolled": true
   },
   "outputs": [
    {
     "data": {
      "text/html": [
       "<div>\n",
       "<style scoped>\n",
       "    .dataframe tbody tr th:only-of-type {\n",
       "        vertical-align: middle;\n",
       "    }\n",
       "\n",
       "    .dataframe tbody tr th {\n",
       "        vertical-align: top;\n",
       "    }\n",
       "\n",
       "    .dataframe thead th {\n",
       "        text-align: right;\n",
       "    }\n",
       "</style>\n",
       "<table border=\"1\" class=\"dataframe\">\n",
       "  <thead>\n",
       "    <tr style=\"text-align: right;\">\n",
       "      <th></th>\n",
       "      <th>Corrente</th>\n",
       "      <th>Temperatura Motor - 1</th>\n",
       "      <th>Temperatura Motor - 2</th>\n",
       "      <th>Temperatura Motor - 3</th>\n",
       "      <th>Temperatura Motor - 4</th>\n",
       "      <th>Temperatura Motor - 5</th>\n",
       "      <th>Pressão Água Selagem</th>\n",
       "      <th>Velocidade</th>\n",
       "      <th>Vazão</th>\n",
       "    </tr>\n",
       "    <tr>\n",
       "      <th>TimeStamp</th>\n",
       "      <th></th>\n",
       "      <th></th>\n",
       "      <th></th>\n",
       "      <th></th>\n",
       "      <th></th>\n",
       "      <th></th>\n",
       "      <th></th>\n",
       "      <th></th>\n",
       "      <th></th>\n",
       "    </tr>\n",
       "  </thead>\n",
       "  <tbody>\n",
       "    <tr>\n",
       "      <th>2020-07-01 00:01:00</th>\n",
       "      <td>202.566668</td>\n",
       "      <td>54.391281</td>\n",
       "      <td>52.244218</td>\n",
       "      <td>52.510209</td>\n",
       "      <td>39.975663</td>\n",
       "      <td>57.597589</td>\n",
       "      <td>4.745334</td>\n",
       "      <td>88.207194</td>\n",
       "      <td>539.719588</td>\n",
       "    </tr>\n",
       "  </tbody>\n",
       "</table>\n",
       "</div>"
      ],
      "text/plain": [
       "                       Corrente  Temperatura Motor - 1  Temperatura Motor - 2  \\\n",
       "TimeStamp                                                                       \n",
       "2020-07-01 00:01:00  202.566668              54.391281              52.244218   \n",
       "\n",
       "                     Temperatura Motor - 3  Temperatura Motor - 4  \\\n",
       "TimeStamp                                                           \n",
       "2020-07-01 00:01:00              52.510209              39.975663   \n",
       "\n",
       "                     Temperatura Motor - 5  Pressão Água Selagem  Velocidade  \\\n",
       "TimeStamp                                                                      \n",
       "2020-07-01 00:01:00              57.597589              4.745334   88.207194   \n",
       "\n",
       "                          Vazão  \n",
       "TimeStamp                        \n",
       "2020-07-01 00:01:00  539.719588  "
      ]
     },
     "execution_count": 15,
     "metadata": {},
     "output_type": "execute_result"
    }
   ],
   "source": [
    "# INDEXA O DATAFRAME PELO TIMESTAMP\n",
    "\n",
    "dfPIMS['TimeStamp'] = pd.to_datetime(dfPIMS['TimeStamp'], format = '%Y-%m-%d %H:%M:%S', errors = 'coerce')\n",
    "dfPIMS.set_index(dfPIMS['TimeStamp'], inplace=True)\n",
    "dfPIMS = dfPIMS.drop(['TimeStamp'], axis=1)\n",
    "time = dfPIMS.index\n",
    "dfPIMS.head(1)"
   ]
  },
  {
   "cell_type": "code",
   "execution_count": 16,
   "metadata": {
    "scrolled": true
   },
   "outputs": [
    {
     "data": {
      "text/html": [
       "<div>\n",
       "<style scoped>\n",
       "    .dataframe tbody tr th:only-of-type {\n",
       "        vertical-align: middle;\n",
       "    }\n",
       "\n",
       "    .dataframe tbody tr th {\n",
       "        vertical-align: top;\n",
       "    }\n",
       "\n",
       "    .dataframe thead th {\n",
       "        text-align: right;\n",
       "    }\n",
       "</style>\n",
       "<table border=\"1\" class=\"dataframe\">\n",
       "  <thead>\n",
       "    <tr style=\"text-align: right;\">\n",
       "      <th></th>\n",
       "      <th>Corrente</th>\n",
       "      <th>Temperatura Motor - 1</th>\n",
       "      <th>Temperatura Motor - 2</th>\n",
       "      <th>Temperatura Motor - 3</th>\n",
       "      <th>Temperatura Motor - 4</th>\n",
       "      <th>Temperatura Motor - 5</th>\n",
       "      <th>Pressão Água Selagem</th>\n",
       "      <th>Velocidade</th>\n",
       "      <th>Vazão</th>\n",
       "    </tr>\n",
       "    <tr>\n",
       "      <th>TimeStamp</th>\n",
       "      <th></th>\n",
       "      <th></th>\n",
       "      <th></th>\n",
       "      <th></th>\n",
       "      <th></th>\n",
       "      <th></th>\n",
       "      <th></th>\n",
       "      <th></th>\n",
       "      <th></th>\n",
       "    </tr>\n",
       "  </thead>\n",
       "  <tbody>\n",
       "    <tr>\n",
       "      <th>2020-07-31 23:59:00</th>\n",
       "      <td>205.103334</td>\n",
       "      <td>59.786093</td>\n",
       "      <td>57.647291</td>\n",
       "      <td>58.033537</td>\n",
       "      <td>44.795576</td>\n",
       "      <td>60.587001</td>\n",
       "      <td>3.59262</td>\n",
       "      <td>89.266866</td>\n",
       "      <td>568.379362</td>\n",
       "    </tr>\n",
       "  </tbody>\n",
       "</table>\n",
       "</div>"
      ],
      "text/plain": [
       "                       Corrente  Temperatura Motor - 1  Temperatura Motor - 2  \\\n",
       "TimeStamp                                                                       \n",
       "2020-07-31 23:59:00  205.103334              59.786093              57.647291   \n",
       "\n",
       "                     Temperatura Motor - 3  Temperatura Motor - 4  \\\n",
       "TimeStamp                                                           \n",
       "2020-07-31 23:59:00              58.033537              44.795576   \n",
       "\n",
       "                     Temperatura Motor - 5  Pressão Água Selagem  Velocidade  \\\n",
       "TimeStamp                                                                      \n",
       "2020-07-31 23:59:00              60.587001               3.59262   89.266866   \n",
       "\n",
       "                          Vazão  \n",
       "TimeStamp                        \n",
       "2020-07-31 23:59:00  568.379362  "
      ]
     },
     "execution_count": 16,
     "metadata": {},
     "output_type": "execute_result"
    }
   ],
   "source": [
    "dfPIMS.tail(1)"
   ]
  },
  {
   "cell_type": "code",
   "execution_count": 17,
   "metadata": {},
   "outputs": [
    {
     "data": {
      "text/plain": [
       "(44639, 9)"
      ]
     },
     "execution_count": 17,
     "metadata": {},
     "output_type": "execute_result"
    }
   ],
   "source": [
    "# VERIFICA TAMANHO DO DF\n",
    "\n",
    "dfPIMS.shape"
   ]
  },
  {
   "cell_type": "code",
   "execution_count": 18,
   "metadata": {},
   "outputs": [
    {
     "data": {
      "text/plain": [
       "Corrente                 float64\n",
       "Temperatura Motor - 1    float64\n",
       "Temperatura Motor - 2    float64\n",
       "Temperatura Motor - 3    float64\n",
       "Temperatura Motor - 4    float64\n",
       "Temperatura Motor - 5    float64\n",
       "Pressão Água Selagem     float64\n",
       "Velocidade               float64\n",
       "Vazão                    float64\n",
       "dtype: object"
      ]
     },
     "execution_count": 18,
     "metadata": {},
     "output_type": "execute_result"
    }
   ],
   "source": [
    "dfPIMS.dtypes"
   ]
  },
  {
   "cell_type": "code",
   "execution_count": 19,
   "metadata": {
    "scrolled": false
   },
   "outputs": [
    {
     "data": {
      "text/plain": [
       "Corrente                 0\n",
       "Temperatura Motor - 1    0\n",
       "Temperatura Motor - 2    0\n",
       "Temperatura Motor - 3    0\n",
       "Temperatura Motor - 4    0\n",
       "Temperatura Motor - 5    0\n",
       "Pressão Água Selagem     0\n",
       "Velocidade               0\n",
       "Vazão                    0\n",
       "dtype: int64"
      ]
     },
     "execution_count": 19,
     "metadata": {},
     "output_type": "execute_result"
    }
   ],
   "source": [
    "dfPIMS.isna().sum()"
   ]
  },
  {
   "cell_type": "markdown",
   "metadata": {},
   "source": [
    "########################################################################################################################\n",
    "\n",
    "                                                 ANÁLISE DESCRITIVA\n",
    "                                         \n",
    "########################################################################################################################"
   ]
  },
  {
   "cell_type": "code",
   "execution_count": 63,
   "metadata": {},
   "outputs": [
    {
     "data": {
      "text/html": [
       "<div>\n",
       "<style scoped>\n",
       "    .dataframe tbody tr th:only-of-type {\n",
       "        vertical-align: middle;\n",
       "    }\n",
       "\n",
       "    .dataframe tbody tr th {\n",
       "        vertical-align: top;\n",
       "    }\n",
       "\n",
       "    .dataframe thead th {\n",
       "        text-align: right;\n",
       "    }\n",
       "</style>\n",
       "<table border=\"1\" class=\"dataframe\">\n",
       "  <thead>\n",
       "    <tr style=\"text-align: right;\">\n",
       "      <th></th>\n",
       "      <th>Corrente</th>\n",
       "      <th>Temperatura Motor - 1</th>\n",
       "      <th>Temperatura Motor - 2</th>\n",
       "      <th>Temperatura Motor - 3</th>\n",
       "      <th>Temperatura Motor - 4</th>\n",
       "      <th>Temperatura Motor - 5</th>\n",
       "      <th>Pressão Água Selagem</th>\n",
       "      <th>Velocidade</th>\n",
       "      <th>Vazão</th>\n",
       "    </tr>\n",
       "  </thead>\n",
       "  <tbody>\n",
       "    <tr>\n",
       "      <th>count</th>\n",
       "      <td>44639.000000</td>\n",
       "      <td>44639.000000</td>\n",
       "      <td>44639.000000</td>\n",
       "      <td>44639.000000</td>\n",
       "      <td>44639.000000</td>\n",
       "      <td>44639.000000</td>\n",
       "      <td>44639.000000</td>\n",
       "      <td>44639.000000</td>\n",
       "      <td>44639.000000</td>\n",
       "    </tr>\n",
       "    <tr>\n",
       "      <th>mean</th>\n",
       "      <td>200.176522</td>\n",
       "      <td>59.734016</td>\n",
       "      <td>57.676255</td>\n",
       "      <td>57.909518</td>\n",
       "      <td>45.807491</td>\n",
       "      <td>60.366097</td>\n",
       "      <td>4.166340</td>\n",
       "      <td>87.944792</td>\n",
       "      <td>547.234843</td>\n",
       "    </tr>\n",
       "    <tr>\n",
       "      <th>std</th>\n",
       "      <td>17.495619</td>\n",
       "      <td>2.908092</td>\n",
       "      <td>2.885385</td>\n",
       "      <td>2.866582</td>\n",
       "      <td>2.800307</td>\n",
       "      <td>2.167664</td>\n",
       "      <td>0.370112</td>\n",
       "      <td>7.199546</td>\n",
       "      <td>46.243240</td>\n",
       "    </tr>\n",
       "    <tr>\n",
       "      <th>min</th>\n",
       "      <td>0.000000</td>\n",
       "      <td>41.494195</td>\n",
       "      <td>40.194425</td>\n",
       "      <td>40.628023</td>\n",
       "      <td>33.746103</td>\n",
       "      <td>41.211387</td>\n",
       "      <td>2.959580</td>\n",
       "      <td>0.000000</td>\n",
       "      <td>0.045281</td>\n",
       "    </tr>\n",
       "    <tr>\n",
       "      <th>25%</th>\n",
       "      <td>199.034667</td>\n",
       "      <td>58.187694</td>\n",
       "      <td>56.097784</td>\n",
       "      <td>56.295193</td>\n",
       "      <td>43.893072</td>\n",
       "      <td>59.173143</td>\n",
       "      <td>3.904089</td>\n",
       "      <td>87.887535</td>\n",
       "      <td>541.308408</td>\n",
       "    </tr>\n",
       "    <tr>\n",
       "      <th>50%</th>\n",
       "      <td>201.915001</td>\n",
       "      <td>59.978970</td>\n",
       "      <td>57.900924</td>\n",
       "      <td>58.155306</td>\n",
       "      <td>45.845823</td>\n",
       "      <td>60.637759</td>\n",
       "      <td>4.134630</td>\n",
       "      <td>88.475342</td>\n",
       "      <td>551.896473</td>\n",
       "    </tr>\n",
       "    <tr>\n",
       "      <th>75%</th>\n",
       "      <td>205.084750</td>\n",
       "      <td>61.751846</td>\n",
       "      <td>59.693759</td>\n",
       "      <td>59.904387</td>\n",
       "      <td>47.755453</td>\n",
       "      <td>61.788006</td>\n",
       "      <td>4.342108</td>\n",
       "      <td>89.194499</td>\n",
       "      <td>560.136786</td>\n",
       "    </tr>\n",
       "    <tr>\n",
       "      <th>max</th>\n",
       "      <td>223.359167</td>\n",
       "      <td>65.754660</td>\n",
       "      <td>63.702449</td>\n",
       "      <td>63.987701</td>\n",
       "      <td>57.165440</td>\n",
       "      <td>64.500093</td>\n",
       "      <td>5.236806</td>\n",
       "      <td>92.543864</td>\n",
       "      <td>607.744714</td>\n",
       "    </tr>\n",
       "  </tbody>\n",
       "</table>\n",
       "</div>"
      ],
      "text/plain": [
       "           Corrente  Temperatura Motor - 1  Temperatura Motor - 2  \\\n",
       "count  44639.000000           44639.000000           44639.000000   \n",
       "mean     200.176522              59.734016              57.676255   \n",
       "std       17.495619               2.908092               2.885385   \n",
       "min        0.000000              41.494195              40.194425   \n",
       "25%      199.034667              58.187694              56.097784   \n",
       "50%      201.915001              59.978970              57.900924   \n",
       "75%      205.084750              61.751846              59.693759   \n",
       "max      223.359167              65.754660              63.702449   \n",
       "\n",
       "       Temperatura Motor - 3  Temperatura Motor - 4  Temperatura Motor - 5  \\\n",
       "count           44639.000000           44639.000000           44639.000000   \n",
       "mean               57.909518              45.807491              60.366097   \n",
       "std                 2.866582               2.800307               2.167664   \n",
       "min                40.628023              33.746103              41.211387   \n",
       "25%                56.295193              43.893072              59.173143   \n",
       "50%                58.155306              45.845823              60.637759   \n",
       "75%                59.904387              47.755453              61.788006   \n",
       "max                63.987701              57.165440              64.500093   \n",
       "\n",
       "       Pressão Água Selagem    Velocidade         Vazão  \n",
       "count          44639.000000  44639.000000  44639.000000  \n",
       "mean               4.166340     87.944792    547.234843  \n",
       "std                0.370112      7.199546     46.243240  \n",
       "min                2.959580      0.000000      0.045281  \n",
       "25%                3.904089     87.887535    541.308408  \n",
       "50%                4.134630     88.475342    551.896473  \n",
       "75%                4.342108     89.194499    560.136786  \n",
       "max                5.236806     92.543864    607.744714  "
      ]
     },
     "execution_count": 63,
     "metadata": {},
     "output_type": "execute_result"
    }
   ],
   "source": [
    "dfPIMS.describe()"
   ]
  },
  {
   "cell_type": "code",
   "execution_count": 21,
   "metadata": {},
   "outputs": [
    {
     "data": {
      "image/png": "[encoded data removed]",
      "text/plain": [
       "<Figure size 1080x864 with 9 Axes>"
      ]
     },
     "metadata": {},
     "output_type": "display_data"
    }
   ],
   "source": [
    "# VERIFICA VISUALMENTE A DISTRIBUIÇÃO DA AMOSTRA\n",
    "\n",
    "gen_histograms(dfPIMS,3)"
   ]
  },
  {
   "cell_type": "code",
   "execution_count": 22,
   "metadata": {},
   "outputs": [
    {
     "data": {
      "image/png": "[encoded data removed]",
      "text/plain": [
       "<Figure size 648x648 with 2 Axes>"
      ]
     },
     "metadata": {},
     "output_type": "display_data"
    }
   ],
   "source": [
    "half_corr_htmp(dfPIMS, 'Heatmap')"
   ]
  },
  {
   "cell_type": "markdown",
   "metadata": {},
   "source": [
    "########################################################################################################################\n",
    "\n",
    "                                                 EXECUÇÃO DO MODELO\n",
    "                                         \n",
    "########################################################################################################################"
   ]
  },
  {
   "cell_type": "code",
   "execution_count": 23,
   "metadata": {},
   "outputs": [
    {
     "data": {
      "text/html": [
       "<div>\n",
       "<style scoped>\n",
       "    .dataframe tbody tr th:only-of-type {\n",
       "        vertical-align: middle;\n",
       "    }\n",
       "\n",
       "    .dataframe tbody tr th {\n",
       "        vertical-align: top;\n",
       "    }\n",
       "\n",
       "    .dataframe thead th {\n",
       "        text-align: right;\n",
       "    }\n",
       "</style>\n",
       "<table border=\"1\" class=\"dataframe\">\n",
       "  <thead>\n",
       "    <tr style=\"text-align: right;\">\n",
       "      <th></th>\n",
       "      <th>Velocidade</th>\n",
       "      <th>Corrente</th>\n",
       "      <th>Vazão</th>\n",
       "    </tr>\n",
       "    <tr>\n",
       "      <th>TimeStamp</th>\n",
       "      <th></th>\n",
       "      <th></th>\n",
       "      <th></th>\n",
       "    </tr>\n",
       "  </thead>\n",
       "  <tbody>\n",
       "    <tr>\n",
       "      <th>2020-07-01 00:01:00</th>\n",
       "      <td>88.207194</td>\n",
       "      <td>202.566668</td>\n",
       "      <td>539.719588</td>\n",
       "    </tr>\n",
       "  </tbody>\n",
       "</table>\n",
       "</div>"
      ],
      "text/plain": [
       "                     Velocidade    Corrente       Vazão\n",
       "TimeStamp                                              \n",
       "2020-07-01 00:01:00   88.207194  202.566668  539.719588"
      ]
     },
     "execution_count": 23,
     "metadata": {},
     "output_type": "execute_result"
    }
   ],
   "source": [
    "# SEPARA VARIÁVEIS ESCOLHIDAS\n",
    "cols=['Velocidade','Corrente','Vazão']\n",
    "dfreg = dfPIMS[cols]\n",
    "dfreg.head(1)"
   ]
  },
  {
   "cell_type": "code",
   "execution_count": 37,
   "metadata": {},
   "outputs": [],
   "source": [
    "# VARIÁVEIS DEPENDENTE E INDEPENDENTES\n",
    "\n",
    "X = dfreg.drop(\"Vazão\",1)   # INDEPENDENTES\n",
    "y = dfreg[\"Vazão\"]          # DEPENDENTE"
   ]
  },
  {
   "cell_type": "code",
   "execution_count": 38,
   "metadata": {},
   "outputs": [],
   "source": [
    "# DIVIDE A BASE DE DADOS EM TREINO E VALIDAÇÃO\n",
    "\n",
    "Xtrain, Xtest, ytrain, ytest = train_test_split(X,y, train_size = 0.7, random_state = 0)\n",
    "X = Xtrain.iloc[:,:].values\n",
    "y = ytrain.values"
   ]
  },
  {
   "cell_type": "code",
   "execution_count": 39,
   "metadata": {},
   "outputs": [],
   "source": [
    "# COMO IREMOS UTILIZAR REGRESSÃO LINEAR MULTIPLA,\n",
    "# PRECISAMOS ACRESCENTAR A COLUNA DE TERMO CONSTANTE (b0) NA MATRIZ - Y = b0+b1x1+b2x2+...+bnxn\n",
    "\n",
    "X = sm.add_constant(X)"
   ]
  },
  {
   "cell_type": "code",
   "execution_count": 40,
   "metadata": {},
   "outputs": [
    {
     "name": "stdout",
     "output_type": "stream",
     "text": [
      "                            OLS Regression Results                            \n",
      "==============================================================================\n",
      "Dep. Variable:                      y   R-squared:                       0.949\n",
      "Model:                            OLS   Adj. R-squared:                  0.949\n",
      "Method:                 Least Squares   F-statistic:                 2.913e+05\n",
      "Date:                Sat, 24 Apr 2021   Prob (F-statistic):               0.00\n",
      "Time:                        16:07:34   Log-Likelihood:            -1.1705e+05\n",
      "No. Observations:               31247   AIC:                         2.341e+05\n",
      "Df Residuals:                   31244   BIC:                         2.341e+05\n",
      "Df Model:                           2                                         \n",
      "Covariance Type:            nonrobust                                         \n",
      "==============================================================================\n",
      "                 coef    std err          t      P>|t|      [0.025      0.975]\n",
      "------------------------------------------------------------------------------\n",
      "const          1.9984      0.725      2.756      0.006       0.577       3.420\n",
      "x1             4.5148      0.028    161.289      0.000       4.460       4.570\n",
      "x2             0.7401      0.012     64.264      0.000       0.718       0.763\n",
      "==============================================================================\n",
      "Omnibus:                     5291.940   Durbin-Watson:                   1.994\n",
      "Prob(Omnibus):                  0.000   Jarque-Bera (JB):            79257.144\n",
      "Skew:                          -0.356   Prob(JB):                         0.00\n",
      "Kurtosis:                      10.770   Cond. No.                     2.75e+03\n",
      "==============================================================================\n",
      "\n",
      "Warnings:\n",
      "[1] Standard Errors assume that the covariance matrix of the errors is correctly specified.\n",
      "[2] The condition number is large, 2.75e+03. This might indicate that there are\n",
      "strong multicollinearity or other numerical problems.\n"
     ]
    }
   ],
   "source": [
    "# EXECUTA A REGRESSÃO NA BASE DE TREINO E PRINTA O RESULTADO DO MODELO\n",
    "\n",
    "reg = sm.OLS(y, X)\n",
    "mdl = reg.fit()\n",
    "print(mdl.summary())"
   ]
  },
  {
   "cell_type": "markdown",
   "metadata": {},
   "source": [
    "########################################################################################################################\n",
    "\n",
    "                                                MÉTRICAS DE TREINO E TESTE\n",
    "                                         \n",
    "########################################################################################################################"
   ]
  },
  {
   "cell_type": "code",
   "execution_count": 41,
   "metadata": {},
   "outputs": [],
   "source": [
    "# PEGA OS VALORES DAS FEATURES DA BASE DE TESTE E ADICIONA A COLUNA b0 DA REGRESSÃO\n",
    "Xtest = Xtest.iloc[:,:].values\n",
    "Xtest = sm.add_constant(Xtest)"
   ]
  },
  {
   "cell_type": "code",
   "execution_count": 42,
   "metadata": {},
   "outputs": [],
   "source": [
    "# CALCULA VAZÃO PREDITA COM BASE NO MODELO\n",
    "ypred = mdl.predict(Xtest)"
   ]
  },
  {
   "cell_type": "code",
   "execution_count": 43,
   "metadata": {},
   "outputs": [
    {
     "name": "stdout",
     "output_type": "stream",
     "text": [
      "MAE do treino: 8.06\n",
      "MAE do teste: 7.99\n",
      "RMSE do treino: 10.25\n",
      "RMSE do teste: 10.44\n"
     ]
    }
   ],
   "source": [
    "# CALCULA ERROS MAE E RMSE - SCIKITLEARN\n",
    "\n",
    "train_error = mean_absolute_error(ytrain, mdl.predict(X))\n",
    "test_error = mean_absolute_error(ytest, mdl.predict(Xtest))\n",
    "rmse_train_error = math.sqrt(mean_squared_error(ytrain, mdl.predict(X)))\n",
    "rmse_val_error = math.sqrt(mean_squared_error(ytest, mdl.predict(Xtest)))\n",
    "\n",
    "print('MAE do treino:', '%.2f' %train_error)\n",
    "print('MAE do teste:' , '%.2f' %test_error)\n",
    "print('RMSE do treino:', '%.2f' %rmse_train_error)\n",
    "print('RMSE do teste:' , '%.2f' %rmse_val_error)"
   ]
  },
  {
   "cell_type": "markdown",
   "metadata": {},
   "source": [
    "### CALCULADO O MODELO E VALIDADO O MESMO NA BASE DE TESTE, FOI CONSTATADO A ADERÊNCIA DO MODELO, DE ACORDO COM AS MÉTRICAS:\n",
    "\n",
    "#### ERRO ABSOLUTO MÉDIO: 7,99 m³/h;\n",
    "#### ERRO MÉDIO QUADRÁTICO: 10,44 m³/h;"
   ]
  },
  {
   "cell_type": "code",
   "execution_count": null,
   "metadata": {},
   "outputs": [],
   "source": []
  },
  {
   "cell_type": "markdown",
   "metadata": {},
   "source": [
    "########################################################################################################################\n",
    "\n",
    "                                         VALIDAÇÃO DO MODELO \n",
    "                                         \n",
    "########################################################################################################################"
   ]
  },
  {
   "cell_type": "markdown",
   "metadata": {},
   "source": [
    "########################################################################################################################\n",
    "\n",
    "                             IMPORT E TRATAMENTO DO DATASET  DADOS DE PROCESSO  - ORIGEM SCADA \n",
    "                                         \n",
    "########################################################################################################################"
   ]
  },
  {
   "cell_type": "code",
   "execution_count": 44,
   "metadata": {
    "scrolled": true
   },
   "outputs": [
    {
     "data": {
      "text/html": [
       "<div>\n",
       "<style scoped>\n",
       "    .dataframe tbody tr th:only-of-type {\n",
       "        vertical-align: middle;\n",
       "    }\n",
       "\n",
       "    .dataframe tbody tr th {\n",
       "        vertical-align: top;\n",
       "    }\n",
       "\n",
       "    .dataframe thead th {\n",
       "        text-align: right;\n",
       "    }\n",
       "</style>\n",
       "<table border=\"1\" class=\"dataframe\">\n",
       "  <thead>\n",
       "    <tr style=\"text-align: right;\">\n",
       "      <th></th>\n",
       "      <th>TimeStamp</th>\n",
       "      <th>Corrente</th>\n",
       "      <th>Temperatura Motor - 1</th>\n",
       "      <th>Temperatura Motor - 2</th>\n",
       "      <th>Temperatura Motor - 3</th>\n",
       "      <th>Temperatura Motor - 4</th>\n",
       "      <th>Temperatura Motor - 5</th>\n",
       "      <th>Pressão Água Selagem</th>\n",
       "      <th>Velocidade</th>\n",
       "      <th>Vazão</th>\n",
       "    </tr>\n",
       "  </thead>\n",
       "  <tbody>\n",
       "    <tr>\n",
       "      <th>0</th>\n",
       "      <td>01/09/2020 00:01</td>\n",
       "      <td>0</td>\n",
       "      <td>45,19256187</td>\n",
       "      <td>43,93864853</td>\n",
       "      <td>44,4699717</td>\n",
       "      <td>37,93784457</td>\n",
       "      <td>44,28255739</td>\n",
       "      <td>3,927822043</td>\n",
       "      <td>0</td>\n",
       "      <td>0,161801147</td>\n",
       "    </tr>\n",
       "  </tbody>\n",
       "</table>\n",
       "</div>"
      ],
      "text/plain": [
       "          TimeStamp Corrente Temperatura Motor - 1 Temperatura Motor - 2  \\\n",
       "0  01/09/2020 00:01        0           45,19256187           43,93864853   \n",
       "\n",
       "  Temperatura Motor - 3 Temperatura Motor - 4 Temperatura Motor - 5  \\\n",
       "0            44,4699717           37,93784457           44,28255739   \n",
       "\n",
       "  Pressão Água Selagem Velocidade        Vazão  \n",
       "0          3,927822043          0  0,161801147  "
      ]
     },
     "execution_count": 44,
     "metadata": {},
     "output_type": "execute_result"
    }
   ],
   "source": [
    "dfSCADA = pd.read_csv(\"database_SCADA.csv\", encoding = 'utf-8', sep = ';', header='infer', low_memory=False)\n",
    "dfSCADA.head(1)"
   ]
  },
  {
   "cell_type": "code",
   "execution_count": 45,
   "metadata": {},
   "outputs": [
    {
     "data": {
      "text/html": [
       "<div>\n",
       "<style scoped>\n",
       "    .dataframe tbody tr th:only-of-type {\n",
       "        vertical-align: middle;\n",
       "    }\n",
       "\n",
       "    .dataframe tbody tr th {\n",
       "        vertical-align: top;\n",
       "    }\n",
       "\n",
       "    .dataframe thead th {\n",
       "        text-align: right;\n",
       "    }\n",
       "</style>\n",
       "<table border=\"1\" class=\"dataframe\">\n",
       "  <thead>\n",
       "    <tr style=\"text-align: right;\">\n",
       "      <th></th>\n",
       "      <th>Corrente</th>\n",
       "      <th>Temperatura Motor - 1</th>\n",
       "      <th>Temperatura Motor - 2</th>\n",
       "      <th>Temperatura Motor - 3</th>\n",
       "      <th>Temperatura Motor - 4</th>\n",
       "      <th>Temperatura Motor - 5</th>\n",
       "      <th>Pressão Água Selagem</th>\n",
       "      <th>Velocidade</th>\n",
       "      <th>Vazão</th>\n",
       "    </tr>\n",
       "    <tr>\n",
       "      <th>TimeStamp</th>\n",
       "      <th></th>\n",
       "      <th></th>\n",
       "      <th></th>\n",
       "      <th></th>\n",
       "      <th></th>\n",
       "      <th></th>\n",
       "      <th></th>\n",
       "      <th></th>\n",
       "      <th></th>\n",
       "    </tr>\n",
       "  </thead>\n",
       "  <tbody>\n",
       "    <tr>\n",
       "      <th>2020-09-01 00:01:00</th>\n",
       "      <td>0</td>\n",
       "      <td>45,19256187</td>\n",
       "      <td>43,93864853</td>\n",
       "      <td>44,4699717</td>\n",
       "      <td>37,93784457</td>\n",
       "      <td>44,28255739</td>\n",
       "      <td>3,927822043</td>\n",
       "      <td>0</td>\n",
       "      <td>0,161801147</td>\n",
       "    </tr>\n",
       "  </tbody>\n",
       "</table>\n",
       "</div>"
      ],
      "text/plain": [
       "                    Corrente Temperatura Motor - 1 Temperatura Motor - 2  \\\n",
       "TimeStamp                                                                  \n",
       "2020-09-01 00:01:00        0           45,19256187           43,93864853   \n",
       "\n",
       "                    Temperatura Motor - 3 Temperatura Motor - 4  \\\n",
       "TimeStamp                                                         \n",
       "2020-09-01 00:01:00            44,4699717           37,93784457   \n",
       "\n",
       "                    Temperatura Motor - 5 Pressão Água Selagem Velocidade  \\\n",
       "TimeStamp                                                                   \n",
       "2020-09-01 00:01:00           44,28255739          3,927822043          0   \n",
       "\n",
       "                           Vazão  \n",
       "TimeStamp                         \n",
       "2020-09-01 00:01:00  0,161801147  "
      ]
     },
     "execution_count": 45,
     "metadata": {},
     "output_type": "execute_result"
    }
   ],
   "source": [
    "# INDEXA O DATAFRAME PELO TIMESTAMP\n",
    "\n",
    "dfSCADA['TimeStamp'] = pd.to_datetime(dfSCADA['TimeStamp'], format = '%d/%m/%Y %H:%M', errors = 'coerce')\n",
    "dfSCADA.set_index(dfSCADA['TimeStamp'], inplace=True)\n",
    "dfSCADA = dfSCADA.drop(['TimeStamp'], axis=1)\n",
    "time = dfSCADA.index\n",
    "dfSCADA.head(1)"
   ]
  },
  {
   "cell_type": "code",
   "execution_count": 46,
   "metadata": {},
   "outputs": [
    {
     "data": {
      "text/html": [
       "<div>\n",
       "<style scoped>\n",
       "    .dataframe tbody tr th:only-of-type {\n",
       "        vertical-align: middle;\n",
       "    }\n",
       "\n",
       "    .dataframe tbody tr th {\n",
       "        vertical-align: top;\n",
       "    }\n",
       "\n",
       "    .dataframe thead th {\n",
       "        text-align: right;\n",
       "    }\n",
       "</style>\n",
       "<table border=\"1\" class=\"dataframe\">\n",
       "  <thead>\n",
       "    <tr style=\"text-align: right;\">\n",
       "      <th></th>\n",
       "      <th>Corrente</th>\n",
       "      <th>Temperatura Motor - 1</th>\n",
       "      <th>Temperatura Motor - 2</th>\n",
       "      <th>Temperatura Motor - 3</th>\n",
       "      <th>Temperatura Motor - 4</th>\n",
       "      <th>Temperatura Motor - 5</th>\n",
       "      <th>Pressão Água Selagem</th>\n",
       "      <th>Velocidade</th>\n",
       "      <th>Vazão</th>\n",
       "    </tr>\n",
       "    <tr>\n",
       "      <th>TimeStamp</th>\n",
       "      <th></th>\n",
       "      <th></th>\n",
       "      <th></th>\n",
       "      <th></th>\n",
       "      <th></th>\n",
       "      <th></th>\n",
       "      <th></th>\n",
       "      <th></th>\n",
       "      <th></th>\n",
       "    </tr>\n",
       "  </thead>\n",
       "  <tbody>\n",
       "    <tr>\n",
       "      <th>2020-12-31 23:59:00</th>\n",
       "      <td>0</td>\n",
       "      <td>35,16790867</td>\n",
       "      <td>33,85769412</td>\n",
       "      <td>34,57715273</td>\n",
       "      <td>29,93698953</td>\n",
       "      <td>32,65043945</td>\n",
       "      <td>-0,008429323</td>\n",
       "      <td>0</td>\n",
       "      <td>0,147356669</td>\n",
       "    </tr>\n",
       "  </tbody>\n",
       "</table>\n",
       "</div>"
      ],
      "text/plain": [
       "                    Corrente Temperatura Motor - 1 Temperatura Motor - 2  \\\n",
       "TimeStamp                                                                  \n",
       "2020-12-31 23:59:00        0           35,16790867           33,85769412   \n",
       "\n",
       "                    Temperatura Motor - 3 Temperatura Motor - 4  \\\n",
       "TimeStamp                                                         \n",
       "2020-12-31 23:59:00           34,57715273           29,93698953   \n",
       "\n",
       "                    Temperatura Motor - 5 Pressão Água Selagem Velocidade  \\\n",
       "TimeStamp                                                                   \n",
       "2020-12-31 23:59:00           32,65043945         -0,008429323          0   \n",
       "\n",
       "                           Vazão  \n",
       "TimeStamp                         \n",
       "2020-12-31 23:59:00  0,147356669  "
      ]
     },
     "execution_count": 46,
     "metadata": {},
     "output_type": "execute_result"
    }
   ],
   "source": [
    "dfSCADA.tail(1)"
   ]
  },
  {
   "cell_type": "code",
   "execution_count": 47,
   "metadata": {},
   "outputs": [
    {
     "data": {
      "text/plain": [
       "(175679, 9)"
      ]
     },
     "execution_count": 47,
     "metadata": {},
     "output_type": "execute_result"
    }
   ],
   "source": [
    "dfSCADA.shape"
   ]
  },
  {
   "cell_type": "code",
   "execution_count": 48,
   "metadata": {},
   "outputs": [
    {
     "data": {
      "text/plain": [
       "Corrente                 object\n",
       "Temperatura Motor - 1    object\n",
       "Temperatura Motor - 2    object\n",
       "Temperatura Motor - 3    object\n",
       "Temperatura Motor - 4    object\n",
       "Temperatura Motor - 5    object\n",
       "Pressão Água Selagem     object\n",
       "Velocidade               object\n",
       "Vazão                    object\n",
       "dtype: object"
      ]
     },
     "execution_count": 48,
     "metadata": {},
     "output_type": "execute_result"
    }
   ],
   "source": [
    "dfSCADA.dtypes"
   ]
  },
  {
   "cell_type": "code",
   "execution_count": 49,
   "metadata": {},
   "outputs": [
    {
     "data": {
      "text/plain": [
       "Corrente                 0\n",
       "Temperatura Motor - 1    0\n",
       "Temperatura Motor - 2    0\n",
       "Temperatura Motor - 3    0\n",
       "Temperatura Motor - 4    0\n",
       "Temperatura Motor - 5    0\n",
       "Pressão Água Selagem     0\n",
       "Velocidade               0\n",
       "Vazão                    0\n",
       "dtype: int64"
      ]
     },
     "execution_count": 49,
     "metadata": {},
     "output_type": "execute_result"
    }
   ],
   "source": [
    "dfSCADA.isna().sum()"
   ]
  },
  {
   "cell_type": "code",
   "execution_count": 50,
   "metadata": {},
   "outputs": [],
   "source": [
    "# CONVERSÃO PARA NUMÉRICOS \n",
    "\n",
    "collist = []\n",
    "for col in dfSCADA:\n",
    "    collist.append(col)\n",
    "\n",
    "for i in range(len(collist)):\n",
    "    dfSCADA[collist[i]] = dfSCADA[collist[i]].str.replace(',','.')\n",
    "    \n",
    "    \n",
    "collist = []\n",
    "for col in dfSCADA:\n",
    "    collist.append(col)\n",
    "\n",
    "for i in range(len(collist)):\n",
    "    dfSCADA[collist[i]] = pd.to_numeric(dfSCADA[collist[i]], errors = 'coerce')\n"
   ]
  },
  {
   "cell_type": "code",
   "execution_count": 51,
   "metadata": {},
   "outputs": [
    {
     "data": {
      "text/plain": [
       "Corrente                 float64\n",
       "Temperatura Motor - 1    float64\n",
       "Temperatura Motor - 2    float64\n",
       "Temperatura Motor - 3    float64\n",
       "Temperatura Motor - 4    float64\n",
       "Temperatura Motor - 5    float64\n",
       "Pressão Água Selagem     float64\n",
       "Velocidade               float64\n",
       "Vazão                    float64\n",
       "dtype: object"
      ]
     },
     "execution_count": 51,
     "metadata": {},
     "output_type": "execute_result"
    }
   ],
   "source": [
    "dfSCADA.dtypes"
   ]
  },
  {
   "cell_type": "code",
   "execution_count": 52,
   "metadata": {
    "scrolled": true
   },
   "outputs": [
    {
     "data": {
      "text/plain": [
       "Corrente                 470\n",
       "Temperatura Motor - 1    471\n",
       "Temperatura Motor - 2    471\n",
       "Temperatura Motor - 3    471\n",
       "Temperatura Motor - 4    471\n",
       "Temperatura Motor - 5    471\n",
       "Pressão Água Selagem     470\n",
       "Velocidade               470\n",
       "Vazão                    470\n",
       "dtype: int64"
      ]
     },
     "execution_count": 52,
     "metadata": {},
     "output_type": "execute_result"
    }
   ],
   "source": [
    "dfSCADA.isna().sum()"
   ]
  },
  {
   "cell_type": "code",
   "execution_count": 53,
   "metadata": {},
   "outputs": [],
   "source": [
    "# EXCLUI LINHAS COM NaN\n",
    "dfSCADA = dfSCADA.dropna()"
   ]
  },
  {
   "cell_type": "code",
   "execution_count": 54,
   "metadata": {
    "scrolled": true
   },
   "outputs": [
    {
     "data": {
      "text/plain": [
       "Corrente                 0\n",
       "Temperatura Motor - 1    0\n",
       "Temperatura Motor - 2    0\n",
       "Temperatura Motor - 3    0\n",
       "Temperatura Motor - 4    0\n",
       "Temperatura Motor - 5    0\n",
       "Pressão Água Selagem     0\n",
       "Velocidade               0\n",
       "Vazão                    0\n",
       "dtype: int64"
      ]
     },
     "execution_count": 54,
     "metadata": {},
     "output_type": "execute_result"
    }
   ],
   "source": [
    "dfSCADA.isna().sum()"
   ]
  },
  {
   "cell_type": "markdown",
   "metadata": {},
   "source": [
    "########################################################################################################################\n",
    "\n",
    "                                         APLICAÇÃO DO MODELO NA BASE DE VALIDAÇÃO\n",
    "                                         \n",
    "########################################################################################################################"
   ]
  },
  {
   "cell_type": "code",
   "execution_count": 55,
   "metadata": {},
   "outputs": [],
   "source": [
    "# SEPARA VARIÁVEIS ESCOLHIDAS\n",
    "dfval = dfSCADA[['Velocidade','Corrente','Vazão']]"
   ]
  },
  {
   "cell_type": "code",
   "execution_count": 56,
   "metadata": {},
   "outputs": [],
   "source": [
    "# APLICA REGRESSÃO E INSERE NO dfval\n",
    "dfval.insert(3, 'Vazão Calculada', (mdl.params[0] + mdl.params[1]*(dfval['Velocidade']) + mdl.params[2]*(dfval['Corrente'])))"
   ]
  },
  {
   "cell_type": "code",
   "execution_count": 57,
   "metadata": {
    "scrolled": true
   },
   "outputs": [
    {
     "data": {
      "text/html": [
       "<div>\n",
       "<style scoped>\n",
       "    .dataframe tbody tr th:only-of-type {\n",
       "        vertical-align: middle;\n",
       "    }\n",
       "\n",
       "    .dataframe tbody tr th {\n",
       "        vertical-align: top;\n",
       "    }\n",
       "\n",
       "    .dataframe thead th {\n",
       "        text-align: right;\n",
       "    }\n",
       "</style>\n",
       "<table border=\"1\" class=\"dataframe\">\n",
       "  <thead>\n",
       "    <tr style=\"text-align: right;\">\n",
       "      <th></th>\n",
       "      <th>Velocidade</th>\n",
       "      <th>Corrente</th>\n",
       "      <th>Vazão</th>\n",
       "      <th>Vazão Calculada</th>\n",
       "    </tr>\n",
       "    <tr>\n",
       "      <th>TimeStamp</th>\n",
       "      <th></th>\n",
       "      <th></th>\n",
       "      <th></th>\n",
       "      <th></th>\n",
       "    </tr>\n",
       "  </thead>\n",
       "  <tbody>\n",
       "    <tr>\n",
       "      <th>2020-09-01 00:01:00</th>\n",
       "      <td>0.0</td>\n",
       "      <td>0.0</td>\n",
       "      <td>0.161801</td>\n",
       "      <td>1.998399</td>\n",
       "    </tr>\n",
       "  </tbody>\n",
       "</table>\n",
       "</div>"
      ],
      "text/plain": [
       "                     Velocidade  Corrente     Vazão  Vazão Calculada\n",
       "TimeStamp                                                           \n",
       "2020-09-01 00:01:00         0.0       0.0  0.161801         1.998399"
      ]
     },
     "execution_count": 57,
     "metadata": {},
     "output_type": "execute_result"
    }
   ],
   "source": [
    "dfval.head(1) "
   ]
  },
  {
   "cell_type": "code",
   "execution_count": 58,
   "metadata": {
    "scrolled": false
   },
   "outputs": [
    {
     "name": "stdout",
     "output_type": "stream",
     "text": [
      "MAE da validação: 9.51\n",
      "RMSE da validação: 16.53\n"
     ]
    }
   ],
   "source": [
    "# CALCULA ERROS MAE E RMSE - SCIKITLEARN\n",
    "\n",
    "val_error = mean_absolute_error(dfval['Vazão'].values,dfval['Vazão Calculada'].values)\n",
    "rmse_val_error = math.sqrt(mean_squared_error(dfval['Vazão'].values,dfval['Vazão Calculada'].values))\n",
    "\n",
    "print('MAE da validação:', '%.2f' %val_error)\n",
    "print('RMSE da validação:' , '%.2f' %rmse_val_error)"
   ]
  },
  {
   "cell_type": "code",
   "execution_count": 74,
   "metadata": {
    "scrolled": true
   },
   "outputs": [
    {
     "data": {
      "image/png": "[encoded data removed]",
      "text/plain": [
       "<Figure size 1080x216 with 1 Axes>"
      ]
     },
     "metadata": {},
     "output_type": "display_data"
    }
   ],
   "source": [
    "# PLOTA GRAFICO DE TENDENCIA\n",
    "\n",
    "fig1,ax1 = plt.subplots(figsize = (15,3))\n",
    "sns.set_palette('deep')\n",
    "sns.set_style('darkgrid')\n",
    "plt.title(\"Real x Calculado - Base de Validação\", fontsize=20, color = 'black')\n",
    "ax1 = sns.lineplot(x=dfval.index, y=dfval['Vazão'], color = 'r')\n",
    "ax1 = sns.lineplot(x=dfval.index, y=dfval['Vazão Calculada'])\n",
    "ax1.set(xlim=(datetime.date(2020, 9, 12),datetime.date(2020, 12, 23)))\n",
    "ax1.set(ylim=(400,800))\n",
    "sns.despine()"
   ]
  },
  {
   "cell_type": "code",
   "execution_count": 75,
   "metadata": {},
   "outputs": [
    {
     "name": "stdout",
     "output_type": "stream",
     "text": [
      "Note: you may need to restart the kernel to use updated packages.\n"
     ]
    }
   ],
   "source": [
    "pip freeze > requirements.txt"
   ]
  },
  {
   "cell_type": "code",
   "execution_count": null,
   "metadata": {},
   "outputs": [],
   "source": []
  }
 ],
 "metadata": {
  "kernelspec": {
   "display_name": "Python 3",
   "language": "python",
   "name": "python3"
  },
  "language_info": {
   "codemirror_mode": {
    "name": "ipython",
    "version": 3
   },
   "file_extension": ".py",
   "mimetype": "text/x-python",
   "name": "python",
   "nbconvert_exporter": "python",
   "pygments_lexer": "ipython3",
   "version": "3.7.6"
  }
 },
 "nbformat": 4,
 "nbformat_minor": 4
}
